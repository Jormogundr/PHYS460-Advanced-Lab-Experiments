{
 "cells": [
  {
   "cell_type": "code",
   "execution_count": 2,
   "metadata": {},
   "outputs": [],
   "source": [
    "# -*- coding: utf-8 -*-\n",
    "\"\"\"\n",
    "Created on Tue Mar  9 14:52:22 2021\n",
    "\n",
    "@author: Nathan\n",
    "\"\"\"\n",
    "\n",
    "\n",
    "import pandas as pd\n",
    "import numpy as np\n",
    "\n",
    "import matplotlib as mpl \n",
    "import matplotlib.pyplot as plt  \n",
    "\n",
    "import scipy as sp \n",
    "from scipy.optimize import curve_fit \n",
    "\n"
   ]
  },
  {
   "cell_type": "code",
   "execution_count": 6,
   "metadata": {},
   "outputs": [
    {
     "data": {
      "text/html": [
       "<div>\n",
       "<style scoped>\n",
       "    .dataframe tbody tr th:only-of-type {\n",
       "        vertical-align: middle;\n",
       "    }\n",
       "\n",
       "    .dataframe tbody tr th {\n",
       "        vertical-align: top;\n",
       "    }\n",
       "\n",
       "    .dataframe thead th {\n",
       "        text-align: right;\n",
       "    }\n",
       "</style>\n",
       "<table border=\"1\" class=\"dataframe\">\n",
       "  <thead>\n",
       "    <tr style=\"text-align: right;\">\n",
       "      <th></th>\n",
       "      <th>time (s)</th>\n",
       "      <th>ang vel (rad/s)</th>\n",
       "      <th>ang position (theta)</th>\n",
       "    </tr>\n",
       "  </thead>\n",
       "  <tbody>\n",
       "    <tr>\n",
       "      <th>0</th>\n",
       "      <td>0.000</td>\n",
       "      <td>0.162119</td>\n",
       "      <td>0.861458</td>\n",
       "    </tr>\n",
       "    <tr>\n",
       "      <th>1</th>\n",
       "      <td>0.005</td>\n",
       "      <td>0.169748</td>\n",
       "      <td>0.805401</td>\n",
       "    </tr>\n",
       "    <tr>\n",
       "      <th>2</th>\n",
       "      <td>0.010</td>\n",
       "      <td>0.181192</td>\n",
       "      <td>0.750618</td>\n",
       "    </tr>\n",
       "    <tr>\n",
       "      <th>3</th>\n",
       "      <td>0.015</td>\n",
       "      <td>0.190093</td>\n",
       "      <td>0.683094</td>\n",
       "    </tr>\n",
       "    <tr>\n",
       "      <th>4</th>\n",
       "      <td>0.020</td>\n",
       "      <td>0.204080</td>\n",
       "      <td>0.632133</td>\n",
       "    </tr>\n",
       "    <tr>\n",
       "      <th>...</th>\n",
       "      <td>...</td>\n",
       "      <td>...</td>\n",
       "      <td>...</td>\n",
       "    </tr>\n",
       "    <tr>\n",
       "      <th>3995</th>\n",
       "      <td>19.975</td>\n",
       "      <td>0.238412</td>\n",
       "      <td>-1.229224</td>\n",
       "    </tr>\n",
       "    <tr>\n",
       "      <th>3996</th>\n",
       "      <td>19.980</td>\n",
       "      <td>0.233326</td>\n",
       "      <td>-1.286555</td>\n",
       "    </tr>\n",
       "    <tr>\n",
       "      <th>3997</th>\n",
       "      <td>19.985</td>\n",
       "      <td>0.230783</td>\n",
       "      <td>-1.336243</td>\n",
       "    </tr>\n",
       "    <tr>\n",
       "      <th>3998</th>\n",
       "      <td>19.990</td>\n",
       "      <td>0.221882</td>\n",
       "      <td>-1.394848</td>\n",
       "    </tr>\n",
       "    <tr>\n",
       "      <th>3999</th>\n",
       "      <td>19.995</td>\n",
       "      <td>0.219339</td>\n",
       "      <td>-1.441987</td>\n",
       "    </tr>\n",
       "  </tbody>\n",
       "</table>\n",
       "<p>4000 rows × 3 columns</p>\n",
       "</div>"
      ],
      "text/plain": [
       "      time (s)  ang vel (rad/s)  ang position (theta)\n",
       "0        0.000         0.162119              0.861458\n",
       "1        0.005         0.169748              0.805401\n",
       "2        0.010         0.181192              0.750618\n",
       "3        0.015         0.190093              0.683094\n",
       "4        0.020         0.204080              0.632133\n",
       "...        ...              ...                   ...\n",
       "3995    19.975         0.238412             -1.229224\n",
       "3996    19.980         0.233326             -1.286555\n",
       "3997    19.985         0.230783             -1.336243\n",
       "3998    19.990         0.221882             -1.394848\n",
       "3999    19.995         0.219339             -1.441987\n",
       "\n",
       "[4000 rows x 3 columns]"
      ]
     },
     "execution_count": 6,
     "metadata": {},
     "output_type": "execute_result"
    }
   ],
   "source": [
    "# c = 0.2\n",
    "# w0 = 0.8927 # hz natural frequency of oscillator\n",
    "# gamma = 0.378 # undamped \n",
    "N = 4000 # number of samples per data frame\n",
    "TOTAL_TIME = 20 # total sample time, in seconds\n",
    "PI = np.pi\n",
    "\n",
    "free_osc = pd.read_csv(\"free oscillation.lvm\", comment = '#', delim_whitespace=True, \n",
    "                            names=['time (s)', 'ang vel (rad/s)', 'ang position (theta)'])\n",
    "free_osc\n"
   ]
  },
  {
   "cell_type": "code",
   "execution_count": 7,
   "metadata": {},
   "outputs": [],
   "source": [
    "t = damp_param['time (s)']\n",
    "theta = damp_param['ang position (theta)'] \n",
    "v = damp_param['ang vel (rad/s)']\n"
   ]
  },
  {
   "cell_type": "code",
   "execution_count": 10,
   "metadata": {},
   "outputs": [
    {
     "data": {
      "text/plain": [
       "5.393292109167026"
      ]
     },
     "execution_count": 10,
     "metadata": {},
     "output_type": "execute_result"
    }
   ],
   "source": [
    "time_between_samples = TOTAL_TIME/N\n",
    "zero_crossings = np.where(np.diff(np.sign(theta)))[0]\n",
    "time_zero_crossings = []\n",
    "\n",
    "for i in zero_crossings:\n",
    "    time_zero_crossings.append(t[i])\n",
    "    \n",
    "\n",
    "# motion crosses the x-axis three times for every wavelength \n",
    "period = time_zero_crossings[2] - time_zero_crossings[0]\n",
    "period\n",
    "\n",
    "# convert to angular velocity\n",
    "w = 2*PI/period\n",
    "w"
   ]
  },
  {
   "cell_type": "code",
   "execution_count": null,
   "metadata": {},
   "outputs": [],
   "source": []
  }
 ],
 "metadata": {
  "kernelspec": {
   "display_name": "Python 3",
   "language": "python",
   "name": "python3"
  },
  "language_info": {
   "codemirror_mode": {
    "name": "ipython",
    "version": 3
   },
   "file_extension": ".py",
   "mimetype": "text/x-python",
   "name": "python",
   "nbconvert_exporter": "python",
   "pygments_lexer": "ipython3",
   "version": "3.7.6"
  }
 },
 "nbformat": 4,
 "nbformat_minor": 4
}
