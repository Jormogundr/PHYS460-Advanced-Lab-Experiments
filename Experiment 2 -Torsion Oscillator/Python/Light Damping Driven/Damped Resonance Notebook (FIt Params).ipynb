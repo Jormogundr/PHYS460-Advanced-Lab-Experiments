{
 "cells": [
  {
   "cell_type": "code",
   "execution_count": 6,
   "metadata": {},
   "outputs": [
    {
     "data": {
      "text/plain": [
       "[<matplotlib.widgets.Slider at 0x23a5399b7c8>,\n",
       " <matplotlib.widgets.Slider at 0x23a5385ed48>,\n",
       " <matplotlib.widgets.Slider at 0x23a539af988>]"
      ]
     },
     "execution_count": 6,
     "metadata": {},
     "output_type": "execute_result"
    }
   ],
   "source": [
    "import pandas as pd\n",
    "import numpy as np\n",
    "\n",
    "import matplotlib as mpl \n",
    "import matplotlib.pyplot as plt  \n",
    "import interactive_plot as ip\n",
    "\n",
    "import scipy as sp \n",
    "from scipy.optimize import curve_fit \n",
    "\n",
    "# w0 = 0.8927 # hz natural frequency of oscillator\n",
    "# gamma = 0.378 # undamped \n",
    "\n",
    "# steady state amplitude\n",
    "def res(f,C,f0,gamma):\n",
    "    term1 = (2*np.pi*f0)**2 - (2*np.pi*f)**2\n",
    "    term2 = 2*gamma*2*np.pi*f\n",
    "    denom = np.sqrt(term1**2 + term2**2)\n",
    "    return C/denom\n",
    "\n",
    "\n",
    "dresonance= pd.read_csv(\"damped driven oscillation.txt\", comment = '#', sep=',', names=['ang displacement (rad)','f(hz)'])\n",
    "\n",
    "f = dresonance['f(hz)'] # driving frequency data                            \n",
    "A = dresonance['ang displacement (rad)']   # measured amplitude\n",
    "\n",
    "fitparams = [['C',0.01,10,0.1,0.001],['f0',0.1,2,1,0.001],['gamma',0.001,5,0.1,0.001]]\n",
    "function = res  #name of fit function\n",
    "plotparams = [['x',0,1.4],['y',0,0.4],[500]] #set scales for plot. 500 points.\n",
    "xData = f #array containing freqency values\n",
    "yData = A #array containing amplitude values\n",
    "xErr = None\n",
    "yErr = None\n",
    "%matplotlib qt\n",
    "\n",
    "\n",
    "\n",
    "\n",
    "plt.plot(f,A, marker='o', linestyle='None', c='yellow', mec='black')\n",
    "\n",
    "ip.slider_plot(fitparams,function,plotparams,xData,yData,xErr,yErr)"
   ]
  },
  {
   "cell_type": "code",
   "execution_count": null,
   "metadata": {},
   "outputs": [],
   "source": []
  }
 ],
 "metadata": {
  "kernelspec": {
   "display_name": "Python 3",
   "language": "python",
   "name": "python3"
  },
  "language_info": {
   "codemirror_mode": {
    "name": "ipython",
    "version": 3
   },
   "file_extension": ".py",
   "mimetype": "text/x-python",
   "name": "python",
   "nbconvert_exporter": "python",
   "pygments_lexer": "ipython3",
   "version": "3.7.6"
  }
 },
 "nbformat": 4,
 "nbformat_minor": 4
}
