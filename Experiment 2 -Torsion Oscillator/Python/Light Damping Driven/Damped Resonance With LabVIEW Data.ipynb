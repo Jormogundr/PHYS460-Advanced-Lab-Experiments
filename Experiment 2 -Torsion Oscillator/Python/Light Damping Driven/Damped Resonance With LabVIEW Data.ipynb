{
 "cells": [
  {
   "cell_type": "code",
   "execution_count": 9,
   "metadata": {},
   "outputs": [
    {
     "name": "stdout",
     "output_type": "stream",
     "text": [
      "i =  0 0.05860550000000003\n",
      "i =  1 0.059242499999999976\n",
      "i =  2 0.06306450000000002\n",
      "i =  3 0.06816049999999996\n",
      "i =  4 0.07898950000000005\n",
      "i =  5 0.10128550000000003\n",
      "i =  6 0.1509725\n",
      "i =  7 0.3408030000000001\n",
      "i =  8 0.516619\n",
      "i =  9 0.14523949999999997\n",
      "i =  10 0.08918199999999998\n",
      "i =  11 0.05987950000000003\n",
      "i =  12 0.04650199999999999\n"
     ]
    },
    {
     "data": {
      "text/plain": [
       "[<matplotlib.widgets.Slider at 0x1bf6045d448>,\n",
       " <matplotlib.widgets.Slider at 0x1bf60464f88>,\n",
       " <matplotlib.widgets.Slider at 0x1bf60473588>]"
      ]
     },
     "execution_count": 9,
     "metadata": {},
     "output_type": "execute_result"
    }
   ],
   "source": [
    "# -*- coding: utf-8 -*-\n",
    "\"\"\"\n",
    "Created on Tue Mar  9 14:52:22 2021\n",
    "\n",
    "@author: Nathan\n",
    "\"\"\"\n",
    "\n",
    "\n",
    "import pandas as pd\n",
    "import numpy as np\n",
    "\n",
    "import matplotlib as mpl \n",
    "import matplotlib.pyplot as plt  \n",
    "import interactive_plot as ip\n",
    "\n",
    "import scipy as sp \n",
    "from scipy.optimize import curve_fit \n",
    "\n",
    "# c = 0.2\n",
    "# w0 = 0.8927 # hz natural frequency of oscillator\n",
    "# gamma = 0.378 # undamped \n",
    "N = 4000 # number of samples per data frame\n",
    "\n",
    "# steady state amplitude\n",
    "def res(f,C,f0,gamma):\n",
    "    term1 = (2*np.pi*f0)**2 - (2*np.pi*f)**2\n",
    "    term2 = 2*gamma*2*np.pi*f\n",
    "    denom = np.sqrt(term1**2 + term2**2)\n",
    "    return C/denom\n",
    "    \n",
    "\n",
    "freq = [0.1, 0.2,0.3,0.4,0.5,0.6,0.7,0.8,0.9,1.0,1.1,1.2,1.3] # array of driving frequencies\n",
    "max_amp_arr = [] # empty array to store max amplitude values\n",
    "\n",
    "\n",
    "for i in range(0, len(freq)):\n",
    "    f = freq[i]\n",
    "    dresonance= pd.read_csv(\"{} hz.lvm\".format(freq[i]), comment = '#', delim_whitespace=True, \n",
    "                            names=['time (s)', 'ang vel', 'ang position (theta)'])\n",
    "    t = dresonance['ang position (theta)']\n",
    "    t_max = np.amax(t)\n",
    "    t_min = np.amin(t)\n",
    "    t_max = abs(t_max - t_min)/2\n",
    "    max_amp_arr.append(t_max)\n",
    "\n",
    "for i in range(len(max_amp_arr)):\n",
    "    print('i = ', i, max_amp_arr[i])\n",
    "\n",
    "\n",
    "# xaxis = np.linspace(0.1, 1.4, 13)\n",
    "# plt.plot(xaxis, max_amp_arr)\n",
    "    \n",
    "# Fitting Routine    \n",
    "fitparams = [['C',0.01,10,0.1,0.001],['f0',0.1,2,1,0.001],['gamma',0.001,5,0.1,0.001]]\n",
    "function = res  #name of fit function\n",
    "plotparams = [['x',0,1.4],['y',0,0.4],[500]] #set scales for plot. 500 points.\n",
    "xData = freq #array containing freqency values\n",
    "yData = max_amp_arr #array containing amplitude values\n",
    "xErr = None\n",
    "yErr = None\n",
    "%matplotlib qt\n",
    "ip.slider_plot(fitparams,function,plotparams,xData,yData,xErr,yErr)\n",
    "\n"
   ]
  },
  {
   "cell_type": "code",
   "execution_count": null,
   "metadata": {},
   "outputs": [],
   "source": []
  }
 ],
 "metadata": {
  "kernelspec": {
   "display_name": "Python 3",
   "language": "python",
   "name": "python3"
  },
  "language_info": {
   "codemirror_mode": {
    "name": "ipython",
    "version": 3
   },
   "file_extension": ".py",
   "mimetype": "text/x-python",
   "name": "python",
   "nbconvert_exporter": "python",
   "pygments_lexer": "ipython3",
   "version": "3.7.6"
  }
 },
 "nbformat": 4,
 "nbformat_minor": 4
}
