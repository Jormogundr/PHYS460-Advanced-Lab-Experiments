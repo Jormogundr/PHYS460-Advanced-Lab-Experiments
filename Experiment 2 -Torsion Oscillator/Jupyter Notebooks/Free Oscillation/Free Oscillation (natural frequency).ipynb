{
 "cells": [
  {
   "cell_type": "code",
   "execution_count": 3,
   "metadata": {},
   "outputs": [],
   "source": [
    "# -*- coding: utf-8 -*-\n",
    "\"\"\"\n",
    "Created on Tue Mar  9 14:52:22 2021\n",
    "\n",
    "@author: Nathan\n",
    "\"\"\"\n",
    "\n",
    "\n",
    "import pandas as pd\n",
    "import numpy as np\n",
    "import interactive_plot as ip\n",
    "\n",
    "import matplotlib as mpl \n",
    "import matplotlib.pyplot as plt  \n",
    "\n",
    "import scipy as sp \n",
    "from scipy.optimize import curve_fit \n",
    "\n"
   ]
  },
  {
   "cell_type": "code",
   "execution_count": 4,
   "metadata": {},
   "outputs": [
    {
     "data": {
      "text/html": [
       "<div>\n",
       "<style scoped>\n",
       "    .dataframe tbody tr th:only-of-type {\n",
       "        vertical-align: middle;\n",
       "    }\n",
       "\n",
       "    .dataframe tbody tr th {\n",
       "        vertical-align: top;\n",
       "    }\n",
       "\n",
       "    .dataframe thead th {\n",
       "        text-align: right;\n",
       "    }\n",
       "</style>\n",
       "<table border=\"1\" class=\"dataframe\">\n",
       "  <thead>\n",
       "    <tr style=\"text-align: right;\">\n",
       "      <th></th>\n",
       "      <th>time (s)</th>\n",
       "      <th>ang vel (rad/s)</th>\n",
       "      <th>ang position (theta)</th>\n",
       "    </tr>\n",
       "  </thead>\n",
       "  <tbody>\n",
       "    <tr>\n",
       "      <th>0</th>\n",
       "      <td>0.000</td>\n",
       "      <td>0.162119</td>\n",
       "      <td>0.861458</td>\n",
       "    </tr>\n",
       "    <tr>\n",
       "      <th>1</th>\n",
       "      <td>0.005</td>\n",
       "      <td>0.169748</td>\n",
       "      <td>0.805401</td>\n",
       "    </tr>\n",
       "    <tr>\n",
       "      <th>2</th>\n",
       "      <td>0.010</td>\n",
       "      <td>0.181192</td>\n",
       "      <td>0.750618</td>\n",
       "    </tr>\n",
       "    <tr>\n",
       "      <th>3</th>\n",
       "      <td>0.015</td>\n",
       "      <td>0.190093</td>\n",
       "      <td>0.683094</td>\n",
       "    </tr>\n",
       "    <tr>\n",
       "      <th>4</th>\n",
       "      <td>0.020</td>\n",
       "      <td>0.204080</td>\n",
       "      <td>0.632133</td>\n",
       "    </tr>\n",
       "    <tr>\n",
       "      <th>...</th>\n",
       "      <td>...</td>\n",
       "      <td>...</td>\n",
       "      <td>...</td>\n",
       "    </tr>\n",
       "    <tr>\n",
       "      <th>3995</th>\n",
       "      <td>19.975</td>\n",
       "      <td>0.238412</td>\n",
       "      <td>-1.229224</td>\n",
       "    </tr>\n",
       "    <tr>\n",
       "      <th>3996</th>\n",
       "      <td>19.980</td>\n",
       "      <td>0.233326</td>\n",
       "      <td>-1.286555</td>\n",
       "    </tr>\n",
       "    <tr>\n",
       "      <th>3997</th>\n",
       "      <td>19.985</td>\n",
       "      <td>0.230783</td>\n",
       "      <td>-1.336243</td>\n",
       "    </tr>\n",
       "    <tr>\n",
       "      <th>3998</th>\n",
       "      <td>19.990</td>\n",
       "      <td>0.221882</td>\n",
       "      <td>-1.394848</td>\n",
       "    </tr>\n",
       "    <tr>\n",
       "      <th>3999</th>\n",
       "      <td>19.995</td>\n",
       "      <td>0.219339</td>\n",
       "      <td>-1.441987</td>\n",
       "    </tr>\n",
       "  </tbody>\n",
       "</table>\n",
       "<p>4000 rows × 3 columns</p>\n",
       "</div>"
      ],
      "text/plain": [
       "      time (s)  ang vel (rad/s)  ang position (theta)\n",
       "0        0.000         0.162119              0.861458\n",
       "1        0.005         0.169748              0.805401\n",
       "2        0.010         0.181192              0.750618\n",
       "3        0.015         0.190093              0.683094\n",
       "4        0.020         0.204080              0.632133\n",
       "...        ...              ...                   ...\n",
       "3995    19.975         0.238412             -1.229224\n",
       "3996    19.980         0.233326             -1.286555\n",
       "3997    19.985         0.230783             -1.336243\n",
       "3998    19.990         0.221882             -1.394848\n",
       "3999    19.995         0.219339             -1.441987\n",
       "\n",
       "[4000 rows x 3 columns]"
      ]
     },
     "execution_count": 4,
     "metadata": {},
     "output_type": "execute_result"
    }
   ],
   "source": [
    "# c = 0.2\n",
    "# w0 = 0.8927 # hz natural frequency of oscillator\n",
    "# gamma = 0.378 # undamped \n",
    "N = 4000 # number of samples per data frame\n",
    "TOTAL_TIME = 20 # total sample time, in seconds\n",
    "PI = np.pi\n",
    "\n",
    "free_osc = pd.read_csv(\"free oscillation.lvm\", comment = '#', delim_whitespace=True, \n",
    "                            names=['time (s)', 'ang vel (rad/s)', 'ang position (theta)'])\n",
    "free_osc\n"
   ]
  },
  {
   "cell_type": "code",
   "execution_count": 5,
   "metadata": {},
   "outputs": [],
   "source": [
    "def harmonic_motion(t, A, w0, d):\n",
    "    arg = w0*t\n",
    "    return A*np.sin(arg-d)"
   ]
  },
  {
   "cell_type": "code",
   "execution_count": 6,
   "metadata": {},
   "outputs": [],
   "source": [
    "def underDampedMotion(t, A, gamma, w1, d):\n",
    "    exponent = (-1)*gamma*t\n",
    "    argument = (w1*t) - d\n",
    "    return A*np.exp(exponent)*np.cos(argument)"
   ]
  },
  {
   "cell_type": "code",
   "execution_count": 7,
   "metadata": {},
   "outputs": [],
   "source": [
    "def underDampedMotion_plot(t, A, gamma, w1, d):\n",
    "    exponent = (-1)*gamma*t\n",
    "    argument = (w1*t) - d\n",
    "    return A*np.exp(exponent)*np.cos(argument)-0.7"
   ]
  },
  {
   "cell_type": "code",
   "execution_count": 8,
   "metadata": {},
   "outputs": [
    {
     "data": {
      "text/plain": [
       "<matplotlib.legend.Legend at 0x16dfe342dc0>"
      ]
     },
     "execution_count": 8,
     "metadata": {},
     "output_type": "execute_result"
    },
    {
     "data": {
      "image/png": "[encoded data removed]",
      "text/plain": [
       "<Figure size 432x288 with 1 Axes>"
      ]
     },
     "metadata": {
      "needs_background": "light"
     },
     "output_type": "display_data"
    }
   ],
   "source": [
    "t = free_osc['time (s)']\n",
    "theta = free_osc['ang position (theta)'] \n",
    "v = free_osc['ang vel (rad/s)']\n",
    "    \n",
    "%matplotlib inline\n",
    "plt.plot(t, theta, marker='o', markersize=2, linestyle='None', label='Data')\n",
    "plt.xlabel('Time (s)', fontsize=16)\n",
    "plt.ylabel('Displacement (Rad)', fontsize=16)\n",
    "plt.tight_layout()\n",
    "plt.xlim(0, 5)\n",
    "\n",
    "plt.legend(fontsize=16)\n"
   ]
  },
  {
   "cell_type": "code",
   "execution_count": 9,
   "metadata": {},
   "outputs": [
    {
     "name": "stdout",
     "output_type": "stream",
     "text": [
      "1.165\n",
      "5.393292109167026\n"
     ]
    }
   ],
   "source": [
    "time_between_samples = TOTAL_TIME/N\n",
    "zero_crossings = np.where(np.diff(np.sign(theta)))[0]\n",
    "time_zero_crossings = []\n",
    "\n",
    "for i in zero_crossings:\n",
    "    time_zero_crossings.append(t[i])\n",
    "    \n",
    "\n",
    "# motion crosses the x-axis three times for every wavelength \n",
    "period = []\n",
    "i = 0\n",
    "while i + 2 < len(time_zero_crossings):\n",
    "    p = time_zero_crossings[i+2] - time_zero_crossings[i]\n",
    "    period.append(p)\n",
    "    i += 3\n",
    "avg_period = np.mean(period)\n",
    "print(avg_period)\n",
    "\n",
    "# convert to angular velocity\n",
    "w = 2*PI/avg_period\n",
    "print(w)"
   ]
  },
  {
   "cell_type": "code",
   "execution_count": 10,
   "metadata": {},
   "outputs": [
    {
     "data": {
      "text/plain": [
       "[<matplotlib.widgets.Slider at 0x16d824f6730>,\n",
       " <matplotlib.widgets.Slider at 0x16d82504700>,\n",
       " <matplotlib.widgets.Slider at 0x16d825134f0>,\n",
       " <matplotlib.widgets.Slider at 0x16d82522310>]"
      ]
     },
     "execution_count": 10,
     "metadata": {},
     "output_type": "execute_result"
    }
   ],
   "source": [
    "# Generate best guess for fit parameters\n",
    "fitparams = [['A',-3,3,0.0,0.1],['gamma',0.1,2,1,0.01],['w1',0.1,6,0.1,0.25],['d',0.01,5,0.25,0.1]]\n",
    "function = underDampedMotion  #name of fit function\n",
    "plotparams = [['x',0,5.0],['y',-3,3],[500]] #set scales for plot. 500 points.\n",
    "xData = t \n",
    "yData = theta \n",
    "xErr = None\n",
    "yErr = None\n",
    "%matplotlib qt\n",
    "\n",
    "\n",
    "\n",
    "ip.slider_plot(fitparams,function,plotparams,xData,yData,xErr,yErr)"
   ]
  },
  {
   "cell_type": "code",
   "execution_count": 11,
   "metadata": {},
   "outputs": [
    {
     "name": "stdout",
     "output_type": "stream",
     "text": [
      "A, gamma, w1, d (final answer) [-2.59365723  0.01227244  5.39213414  2.22502921]\n"
     ]
    }
   ],
   "source": [
    "# Generate best fit parameters using damped equation of motion\n",
    "popt, pcov = curve_fit(underDampedMotion, t, theta)\n",
    "print('A, gamma, w1, d (final answer)', popt) \n",
    "A = popt[0]\n",
    "gamma = popt[1]\n",
    "w1 = popt[2]\n",
    "d = popt[3]\n",
    "\n",
    "xFit = np.linspace(0, 20, 1000)\n",
    "yFit = underDampedMotion_plot(xFit, *popt)"
   ]
  },
  {
   "cell_type": "code",
   "execution_count": 12,
   "metadata": {},
   "outputs": [
    {
     "data": {
      "image/png": "[encoded data removed]",
      "text/plain": [
       "<Figure size 432x288 with 1 Axes>"
      ]
     },
     "metadata": {
      "needs_background": "light"
     },
     "output_type": "display_data"
    }
   ],
   "source": [
    "%matplotlib inline\n",
    "plt.plot(xFit, yFit, label='Fit',linewidth=5)\n",
    "plt.plot(t, theta, marker='o', markersize=3, linestyle='None', label='Data', alpha=0.45)\n",
    "plt.xlabel('Time (s)', fontsize=16)\n",
    "plt.ylabel('Displacement (Rad)', fontsize=16)\n",
    "plt.xlim(0, 5)\n",
    "plt.legend(fontsize=10)\n",
    "plt.tight_layout()\n",
    "plt.savefig('Free Oscillation (PDF).pdf', format='pdf')\n",
    "plt.savefig('Free Oscillation (SVG).svg', format='svg')\n",
    "plt.show()"
   ]
  },
  {
   "cell_type": "code",
   "execution_count": 13,
   "metadata": {},
   "outputs": [
    {
     "name": "stdout",
     "output_type": "stream",
     "text": [
      "A, w1, d (final answer) [-2.59365723  0.01227244  5.39213414  2.22502921]\n"
     ]
    }
   ],
   "source": [
    "# Generate best fit parameters using free motion equation of\n",
    "popt, pcov = curve_fit(underDampedMotion, t, theta)\n",
    "print('A, w1, d (final answer)', popt) \n",
    "A = popt[0]\n",
    "gamma = popt[1]\n",
    "w1 = popt[2]\n",
    "\n",
    "\n",
    "xFit = np.linspace(0, 5, 1000)\n",
    "yFit = underDampedMotion(xFit, *popt)"
   ]
  },
  {
   "cell_type": "markdown",
   "metadata": {},
   "source": [
    "%matplotlib inline\n",
    "plt.plot(xFit, yFit, label='Fit',linewidth=5)\n",
    "plt.plot(t, theta, marker='o', markersize=3, linestyle='None', label='Data', alpha=0.45)\n",
    "plt.xlabel('Time (s)', fontsize=16)\n",
    "plt.ylabel('Displacement (Rad)', fontsize=16)\n",
    "plt.xlim(0, 5)\n",
    "plt.legend(fontsize=10)\n",
    "plt.tight_layout()\n",
    "plt.savefig('Free Oscillation (PDF).pdf', format='pdf')\n",
    "plt.savefig('Free Oscillation (SVG).svg', format='svg')\n",
    "plt.show()"
   ]
  },
  {
   "cell_type": "code",
   "execution_count": 17,
   "metadata": {},
   "outputs": [
    {
     "name": "stdout",
     "output_type": "stream",
     "text": [
      "[[ 1.18488211e-03 -3.58847106e-05  6.64681251e-08 -6.77767042e-07]\n",
      " [-3.58847106e-05  1.50235302e-06 -9.21174645e-09 -2.34228139e-08]\n",
      " [ 6.64681251e-08 -9.21174645e-09  1.43405023e-06  1.31297434e-05]\n",
      " [-6.77767042e-07 -2.34228139e-08  1.31297434e-05  1.68151787e-04]]\n",
      "0.0012257051111345255\n"
     ]
    }
   ],
   "source": [
    "print(pcov)\n",
    "dw1 = pcov[1][1]\n",
    "dw1 = np.sqrt(dw1)\n",
    "print(dw1)"
   ]
  },
  {
   "cell_type": "code",
   "execution_count": null,
   "metadata": {},
   "outputs": [],
   "source": []
  }
 ],
 "metadata": {
  "kernelspec": {
   "display_name": "Python 3",
   "language": "python",
   "name": "python3"
  },
  "language_info": {
   "codemirror_mode": {
    "name": "ipython",
    "version": 3
   },
   "file_extension": ".py",
   "mimetype": "text/x-python",
   "name": "python",
   "nbconvert_exporter": "python",
   "pygments_lexer": "ipython3",
   "version": "3.8.5"
  }
 },
 "nbformat": 4,
 "nbformat_minor": 4
}
