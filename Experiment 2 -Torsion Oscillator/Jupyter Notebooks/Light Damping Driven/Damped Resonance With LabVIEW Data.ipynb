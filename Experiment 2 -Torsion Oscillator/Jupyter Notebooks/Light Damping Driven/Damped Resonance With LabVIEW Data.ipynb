{
 "cells": [
  {
   "cell_type": "code",
   "execution_count": 33,
   "metadata": {},
   "outputs": [
    {
     "name": "stdout",
     "output_type": "stream",
     "text": [
      "i =  0 0.05860549999999998 f =  0.1\n",
      "i =  1 0.059242499999999976 f =  0.2\n",
      "i =  2 0.06306450000000002 f =  0.3\n",
      "i =  3 0.06816050000000001 f =  0.4\n",
      "i =  4 0.07898949999999999 f =  0.5\n",
      "i =  5 0.10128550000000003 f =  0.6\n",
      "i =  6 0.1509725 f =  0.7\n",
      "i =  7 0.167535 f =  0.725\n",
      "i =  8 0.1981115 f =  0.75\n",
      "i =  9 0.252895 f =  0.775\n",
      "i =  10 0.3408030000000001 f =  0.8\n",
      "i =  11 0.522989 f =  0.825\n",
      "i =  12 1.291229 f =  0.85\n",
      "i =  13 1.163189 f =  0.875\n",
      "i =  14 0.516619 f =  0.9\n",
      "i =  15 0.14523949999999997 f =  1.0\n",
      "i =  16 0.08918199999999998 f =  1.1\n",
      "i =  17 0.059879499999999974 f =  1.2\n",
      "i =  18 0.04650199999999999 f =  1.3\n"
     ]
    },
    {
     "data": {
      "text/plain": [
       "[<matplotlib.widgets.Slider at 0x1b884e9abe0>,\n",
       " <matplotlib.widgets.Slider at 0x1b884ea6b80>,\n",
       " <matplotlib.widgets.Slider at 0x1b884eb4940>]"
      ]
     },
     "execution_count": 33,
     "metadata": {},
     "output_type": "execute_result"
    }
   ],
   "source": [
    "# -*- coding: utf-8 -*-\n",
    "\"\"\"\n",
    "Created on Tue Mar  9 14:52:22 2021\n",
    "\n",
    "@author: Nathan\n",
    "\"\"\"\n",
    "\n",
    "\n",
    "import pandas as pd\n",
    "import numpy as np\n",
    "\n",
    "import matplotlib as mpl \n",
    "import matplotlib.pyplot as plt  \n",
    "import interactive_plot as ip\n",
    "\n",
    "import scipy as sp \n",
    "from scipy.optimize import curve_fit \n",
    "\n",
    "\n",
    "N = 4000 # number of samples per data frame\n",
    "\n",
    "# steady state amplitude\n",
    "def res(f,C,f0,gamma):\n",
    "    term1 = (2*np.pi*f0)**2 - (2*np.pi*f)**2\n",
    "    term2 = 2*gamma*2*np.pi*f\n",
    "    denom = np.sqrt(term1**2 + term2**2)\n",
    "    return C/denom\n",
    "    \n",
    "\n",
    "freq = [0.1, 0.2,0.3,0.4,0.5,0.6,0.7,0.725,0.750,0.775,0.8,0.825,0.85,0.875,0.9,1.0,1.1,1.2,1.3] # array of driving frequencies\n",
    "max_amp_arr = [] # empty array to store max amplitude values\n",
    "\n",
    "\n",
    "for i in range(0, len(freq)):\n",
    "    f = freq[i]\n",
    "    dresonance= pd.read_csv(\"{} hz.lvm\".format(freq[i]), comment = '#', delim_whitespace=True, \n",
    "                            names=['time (s)', 'ang vel', 'ang position (theta)'])\n",
    "    t = dresonance['ang position (theta)']\n",
    "    t_max = np.amax(t)\n",
    "    t_min = np.amin(t)\n",
    "    t_max = abs(t_max - t_min)/2\n",
    "    max_amp_arr.append(t_max)\n",
    "\n",
    "for i in range(len(max_amp_arr)):\n",
    "    print('i = ', i, max_amp_arr[i], 'f = ', freq[i])\n",
    "\n",
    "\n",
    "# xaxis = np.linspace(0.1, 1.4, 13)\n",
    "# plt.plot(xaxis, max_amp_arr)\n",
    "    \n",
    "# Fitting Routine    \n",
    "#, ['Parameter symbol', slider start value, slider end value, slider initial value, and slider step size]\n",
    "fitparams = [['C',0.01,10,0.1,0.001],['f0',0.1,2,1,0.001],['gamma',0.001,5,0.1,0.001]]\n",
    "function = res  #name of fit function\n",
    "plotparams = [['x',0,1.4],['y',0,0.4],[500]] #set scales for plot. 500 points.\n",
    "xData = freq #array containing freqency values\n",
    "yData = max_amp_arr #array containing amplitude values\n",
    "xErr = None\n",
    "yErr = None\n",
    "\n",
    "%matplotlib qt\n",
    "ip.slider_plot(fitparams,function,plotparams,xData,yData,xErr,yErr)\n",
    "\n"
   ]
  },
  {
   "cell_type": "code",
   "execution_count": 34,
   "metadata": {},
   "outputs": [
    {
     "name": "stdout",
     "output_type": "stream",
     "text": [
      "C,f0,gamma [1.40529251 0.86164247 0.07097889]\n"
     ]
    },
    {
     "data": {
      "image/png": "[encoded data removed]",
      "text/plain": [
       "<Figure size 432x288 with 1 Axes>"
      ]
     },
     "metadata": {
      "needs_background": "light"
     },
     "output_type": "display_data"
    }
   ],
   "source": [
    "guess = [1.676, 0.877, 0.108]\n",
    "\n",
    "# Generate best fit parameters with guess\n",
    "popt, pcov = curve_fit(res, freq, max_amp_arr)\n",
    "print(\"C,f0,gamma\", popt)\n",
    "\n",
    "xFit = np.linspace(0, 1.5, 1000)\n",
    "yFit = res(xFit, *popt)\n",
    "\n",
    "%matplotlib inthe datline\n",
    "plt.plot(xFit, yFit, label='Fit')\n",
    "plt.plot(freq, max_amp_arr, label='Data', marker='o', linestyle='None', mec='black')\n",
    "plt.xlabel(\"Driving Frequency (hz)\", fontsize=16)\n",
    "plt.ylabel(\"Max. Amplitude (rad)\", fontsize=16)\n",
    "plt.legend(fontsize=16)\n",
    "plt.tight_layout()\n",
    "plt.savefig('Driven Resonance (PDF).pdf', format='pdf')\n",
    "plt.savefig('Driven Resonance (SVG).svg', format='svg')\n",
    "plt.show()"
   ]
  },
  {
   "cell_type": "code",
   "execution_count": 25,
   "metadata": {},
   "outputs": [
    {
     "name": "stdout",
     "output_type": "stream",
     "text": [
      "1.8277136591207104 0.8618618618618619\n"
     ]
    }
   ],
   "source": [
    "t = 0\n",
    "res_freq = 0\n",
    "\n",
    "for i in range(0, len(yFit)):\n",
    "    if yFit[i] > t:\n",
    "        t = yFit[i]\n",
    "        res_freq = xFit[i]\n",
    "        \n",
    "print(t, res_freq)"
   ]
  },
  {
   "cell_type": "code",
   "execution_count": null,
   "metadata": {},
   "outputs": [],
   "source": []
  }
 ],
 "metadata": {
  "kernelspec": {
   "display_name": "Python 3",
   "language": "python",
   "name": "python3"
  },
  "language_info": {
   "codemirror_mode": {
    "name": "ipython",
    "version": 3
   },
   "file_extension": ".py",
   "mimetype": "text/x-python",
   "name": "python",
   "nbconvert_exporter": "python",
   "pygments_lexer": "ipython3",
   "version": "3.8.5"
  }
 },
 "nbformat": 4,
 "nbformat_minor": 4
}
