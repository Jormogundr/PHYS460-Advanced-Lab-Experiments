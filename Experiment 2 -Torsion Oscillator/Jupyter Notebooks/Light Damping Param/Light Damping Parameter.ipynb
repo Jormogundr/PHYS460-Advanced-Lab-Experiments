{
 "cells": [
  {
   "cell_type": "code",
   "execution_count": 1,
   "metadata": {},
   "outputs": [],
   "source": [
    "# -*- coding: utf-8 -*-\n",
    "\"\"\"\n",
    "Created on Tue Mar  9 14:52:22 2021\n",
    "\n",
    "@author: Nathan\n",
    "\"\"\"\n",
    "\n",
    "\n",
    "import pandas as pd\n",
    "import numpy as np\n",
    "\n",
    "import matplotlib as mpl \n",
    "import matplotlib.pyplot as plt  \n",
    "import interactive_plot as ip\n",
    "\n",
    "import scipy as sp \n",
    "from scipy.optimize import curve_fit \n",
    "\n"
   ]
  },
  {
   "cell_type": "code",
   "execution_count": 2,
   "metadata": {
    "scrolled": true
   },
   "outputs": [
    {
     "data": {
      "text/html": [
       "<div>\n",
       "<style scoped>\n",
       "    .dataframe tbody tr th:only-of-type {\n",
       "        vertical-align: middle;\n",
       "    }\n",
       "\n",
       "    .dataframe tbody tr th {\n",
       "        vertical-align: top;\n",
       "    }\n",
       "\n",
       "    .dataframe thead th {\n",
       "        text-align: right;\n",
       "    }\n",
       "</style>\n",
       "<table border=\"1\" class=\"dataframe\">\n",
       "  <thead>\n",
       "    <tr style=\"text-align: right;\">\n",
       "      <th></th>\n",
       "      <th>time (s)</th>\n",
       "      <th>ang vel (rad/s)</th>\n",
       "      <th>ang position (theta)</th>\n",
       "    </tr>\n",
       "  </thead>\n",
       "  <tbody>\n",
       "    <tr>\n",
       "      <th>0</th>\n",
       "      <td>0.000</td>\n",
       "      <td>-0.006998</td>\n",
       "      <td>1.629698</td>\n",
       "    </tr>\n",
       "    <tr>\n",
       "      <th>1</th>\n",
       "      <td>0.005</td>\n",
       "      <td>-0.001911</td>\n",
       "      <td>1.624602</td>\n",
       "    </tr>\n",
       "    <tr>\n",
       "      <th>2</th>\n",
       "      <td>0.010</td>\n",
       "      <td>-0.008269</td>\n",
       "      <td>1.613136</td>\n",
       "    </tr>\n",
       "    <tr>\n",
       "      <th>3</th>\n",
       "      <td>0.015</td>\n",
       "      <td>-0.001911</td>\n",
       "      <td>1.604218</td>\n",
       "    </tr>\n",
       "    <tr>\n",
       "      <th>4</th>\n",
       "      <td>0.020</td>\n",
       "      <td>0.004446</td>\n",
       "      <td>1.588929</td>\n",
       "    </tr>\n",
       "    <tr>\n",
       "      <th>...</th>\n",
       "      <td>...</td>\n",
       "      <td>...</td>\n",
       "      <td>...</td>\n",
       "    </tr>\n",
       "    <tr>\n",
       "      <th>995</th>\n",
       "      <td>4.975</td>\n",
       "      <td>0.046408</td>\n",
       "      <td>-0.933649</td>\n",
       "    </tr>\n",
       "    <tr>\n",
       "      <th>996</th>\n",
       "      <td>4.980</td>\n",
       "      <td>0.047679</td>\n",
       "      <td>-0.937471</td>\n",
       "    </tr>\n",
       "    <tr>\n",
       "      <th>997</th>\n",
       "      <td>4.985</td>\n",
       "      <td>0.043865</td>\n",
       "      <td>-0.951486</td>\n",
       "    </tr>\n",
       "    <tr>\n",
       "      <th>998</th>\n",
       "      <td>4.990</td>\n",
       "      <td>0.047679</td>\n",
       "      <td>-0.966774</td>\n",
       "    </tr>\n",
       "    <tr>\n",
       "      <th>999</th>\n",
       "      <td>4.995</td>\n",
       "      <td>0.037507</td>\n",
       "      <td>-0.973144</td>\n",
       "    </tr>\n",
       "  </tbody>\n",
       "</table>\n",
       "<p>1000 rows × 3 columns</p>\n",
       "</div>"
      ],
      "text/plain": [
       "     time (s)  ang vel (rad/s)  ang position (theta)\n",
       "0       0.000        -0.006998              1.629698\n",
       "1       0.005        -0.001911              1.624602\n",
       "2       0.010        -0.008269              1.613136\n",
       "3       0.015        -0.001911              1.604218\n",
       "4       0.020         0.004446              1.588929\n",
       "..        ...              ...                   ...\n",
       "995     4.975         0.046408             -0.933649\n",
       "996     4.980         0.047679             -0.937471\n",
       "997     4.985         0.043865             -0.951486\n",
       "998     4.990         0.047679             -0.966774\n",
       "999     4.995         0.037507             -0.973144\n",
       "\n",
       "[1000 rows x 3 columns]"
      ]
     },
     "execution_count": 2,
     "metadata": {},
     "output_type": "execute_result"
    }
   ],
   "source": [
    "# c = 0.2\n",
    "# w0 = 0.8927 # hz natural frequency of oscillator\n",
    "# gamma = 0.378 # undamped \n",
    "N = 4000 # number of samples per data frame\n",
    "TOTAL_TIME = 20 # total sample time, in seconds\n",
    "PI = np.pi\n",
    "w0 = 5.3932 # natural frequency\n",
    "\n",
    "damp_param = pd.read_csv(\"d5.lvm\", comment = '#', delim_whitespace=True, \n",
    "                            names=['time (s)', 'ang vel (rad/s)', 'ang position (theta)'])\n",
    "damp_param\n"
   ]
  },
  {
   "cell_type": "code",
   "execution_count": 3,
   "metadata": {},
   "outputs": [],
   "source": [
    "def underDampedMotion(t, A, gamma, w1, d):\n",
    "    exponent = (-1)*gamma*t\n",
    "    argument = (w1*t) - d\n",
    "    return A*np.exp(exponent)*np.cos(argument)"
   ]
  },
  {
   "cell_type": "code",
   "execution_count": 4,
   "metadata": {},
   "outputs": [],
   "source": [
    "def underDampedMotionPlot(t, A, gamma, w1, d):\n",
    "    exponent = (-1)*gamma*t\n",
    "    argument = (w1*t) - d\n",
    "    return A*np.exp(exponent)*np.cos(argument)-0.7"
   ]
  },
  {
   "cell_type": "code",
   "execution_count": 5,
   "metadata": {},
   "outputs": [],
   "source": [
    "def harmonic(t, A, d, w):\n",
    "    return A*np.cos(w*t-d)"
   ]
  },
  {
   "cell_type": "code",
   "execution_count": 6,
   "metadata": {},
   "outputs": [],
   "source": [
    "t = damp_param['time (s)']\n",
    "theta = damp_param['ang position (theta)'] \n",
    "v = damp_param['ang vel (rad/s)']\n"
   ]
  },
  {
   "cell_type": "code",
   "execution_count": 7,
   "metadata": {},
   "outputs": [
    {
     "name": "stdout",
     "output_type": "stream",
     "text": [
      "[0.195, 0.905, 1.33, 2.11, 2.445, 3.35, 3.515]\n",
      "1.1875\n",
      "5.291103416572283\n",
      "0.19365654752518885\n"
     ]
    }
   ],
   "source": [
    "time_between_samples = TOTAL_TIME/N\n",
    "zero_crossings = np.where(np.diff(np.sign(theta)))[0]\n",
    "time_zero_crossings = []\n",
    "\n",
    "for i in zero_crossings:\n",
    "    time_zero_crossings.append(t[i])\n",
    "print(time_zero_crossings)\n",
    "    \n",
    "# motion crosses the x-axis three times for every wavelength \n",
    "period = []\n",
    "i = 0\n",
    "while i + 2 < len(time_zero_crossings):\n",
    "    p = time_zero_crossings[i+2] - time_zero_crossings[i]\n",
    "    period.append(p)\n",
    "    i += 3\n",
    "avg_period = np.mean(period)\n",
    "print(avg_period)\n",
    "\n",
    "# convert to angular velocity\n",
    "w = 2*PI/avg_period\n",
    "print(w)\n",
    "\n",
    "# find gamma\n",
    "ratio = (w/w0)**2\n",
    "gamma = np.sqrt(1-ratio)\n",
    "print(gamma)"
   ]
  },
  {
   "cell_type": "code",
   "execution_count": 8,
   "metadata": {},
   "outputs": [
    {
     "name": "stdout",
     "output_type": "stream",
     "text": [
      "A, gamma, w1, d (final answer)  [-2.71640184  0.38321875  5.33689831  2.77433624]\n"
     ]
    },
    {
     "data": {
      "image/png": "[encoded data removed]",
      "text/plain": [
       "<Figure size 432x288 with 1 Axes>"
      ]
     },
     "metadata": {
      "needs_background": "light"
     },
     "output_type": "display_data"
    }
   ],
   "source": [
    "# Generate best fit parameters\n",
    "popt, pcov = curve_fit(underDampedMotion, t, theta)\n",
    "print('A, gamma, w1, d (final answer) ', popt) \n",
    "A = popt[0]\n",
    "gamma = popt[1]\n",
    "w1 = popt[2]\n",
    "d = popt[3]\n",
    "\n",
    "xFit = np.linspace(0, 5, 1000)\n",
    "yFit = underDampedMotionPlot(xFit, A, gamma, w1, d)\n",
    "har = harmonic(xFit, A, d, w)\n",
    "\n",
    "%matplotlib inline\n",
    "plt.plot(xFit, har, label='Harmonic')\n",
    "plt.plot(xFit, yFit, label='Fit', linewidth=5)\n",
    "plt.plot(t, theta, marker='o', markersize=1, linestyle='None', label='Data')\n",
    "plt.xlabel('Time (s)', fontsize=16)\n",
    "plt.ylabel('Displacement (Rad)', fontsize=16)\n",
    "plt.xlim(0, 5)\n",
    "plt.savefig('Light Damping Motion (PDF).pdf', format='pdf')\n",
    "plt.savefig('Light Damping Motion (SVG).svg', format='svg')\n",
    "plt.show()"
   ]
  },
  {
   "cell_type": "code",
   "execution_count": null,
   "metadata": {},
   "outputs": [],
   "source": []
  },
  {
   "cell_type": "code",
   "execution_count": 9,
   "metadata": {},
   "outputs": [
    {
     "data": {
      "text/plain": [
       "[<matplotlib.widgets.Slider at 0x29eba0489a0>,\n",
       " <matplotlib.widgets.Slider at 0x29eba0569a0>,\n",
       " <matplotlib.widgets.Slider at 0x29eba068760>,\n",
       " <matplotlib.widgets.Slider at 0x29eba076580>]"
      ]
     },
     "execution_count": 9,
     "metadata": {},
     "output_type": "execute_result"
    }
   ],
   "source": [
    "# Generate best guess for fit parameters\n",
    "fitparams = [['A',-3,3,0.0,0.1],['gamma',0.1,2,1,0.01],['w1',0.1,6,0.1,0.25],['d',0.01,5,0.25,0.1]]\n",
    "function = underDampedMotion  #name of fit function\n",
    "plotparams = [['x',0,5.0],['y',-3,3],[500]] #set scales for plot. 500 points.\n",
    "xData = t \n",
    "yData = theta \n",
    "xErr = None\n",
    "yErr = None\n",
    "%matplotlib qt\n",
    "\n",
    "\n",
    "\n",
    "ip.slider_plot(fitparams,function,plotparams,xData,yData,xErr,yErr)"
   ]
  },
  {
   "cell_type": "code",
   "execution_count": 11,
   "metadata": {},
   "outputs": [
    {
     "name": "stdout",
     "output_type": "stream",
     "text": [
      "0.021526468624162794\n"
     ]
    }
   ],
   "source": [
    "dw1 = np.sqrt(pcov[2][2])\n",
    "print(dw1)"
   ]
  },
  {
   "cell_type": "code",
   "execution_count": null,
   "metadata": {},
   "outputs": [],
   "source": []
  }
 ],
 "metadata": {
  "kernelspec": {
   "display_name": "Python 3",
   "language": "python",
   "name": "python3"
  },
  "language_info": {
   "codemirror_mode": {
    "name": "ipython",
    "version": 3
   },
   "file_extension": ".py",
   "mimetype": "text/x-python",
   "name": "python",
   "nbconvert_exporter": "python",
   "pygments_lexer": "ipython3",
   "version": "3.8.5"
  }
 },
 "nbformat": 4,
 "nbformat_minor": 4
}
