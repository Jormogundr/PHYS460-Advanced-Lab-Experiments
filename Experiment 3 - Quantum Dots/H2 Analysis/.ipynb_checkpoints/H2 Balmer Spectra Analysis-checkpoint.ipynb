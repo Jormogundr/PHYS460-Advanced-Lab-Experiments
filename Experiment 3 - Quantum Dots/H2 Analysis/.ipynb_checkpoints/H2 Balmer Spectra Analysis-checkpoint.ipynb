{
 "cells": [
  {
   "cell_type": "code",
   "execution_count": 2,
   "metadata": {},
   "outputs": [
    {
     "data": {
      "text/plain": [
       "[<matplotlib.widgets.Slider at 0x1b50407de08>,\n",
       " <matplotlib.widgets.Slider at 0x1b50407df08>,\n",
       " <matplotlib.widgets.Slider at 0x1b50408b648>,\n",
       " <matplotlib.widgets.Slider at 0x1b504095748>,\n",
       " <matplotlib.widgets.Slider at 0x1b5040a3248>]"
      ]
     },
     "execution_count": 2,
     "metadata": {},
     "output_type": "execute_result"
    }
   ],
   "source": [
    "# -*- coding: utf-8 -*-\n",
    "\"\"\"\n",
    "Created on Tue Mar 16 14:42:44 2021\n",
    "\n",
    "@author: Nathan\n",
    "\"\"\"\n",
    "\n",
    "\n",
    "import pandas as pd\n",
    "import numpy as np\n",
    "\n",
    "import matplotlib as mpl \n",
    "import matplotlib.pyplot as plt \n",
    "\n",
    "import interactive_plot as ip\n",
    "\n",
    "def Gaussian_And_Line(x, a0, a1, b0, b1, b2): # x is wavelenghth\n",
    "    \n",
    "    linear = a0 + a1*x\n",
    "    \n",
    "    exponent1 = (-0.5)*((x-b1)/b2)**2\n",
    "    gauss1 = b0*np.exp(exponent1)\n",
    "    \n",
    "        \n",
    "    return  linear + gauss1 \n",
    "\n",
    "h2_data = pd.read_csv(\"unfiltered excited h2.txt\", comment = '#', delim_whitespace=True, names=['W', 'I'])\n",
    "\n",
    "l = h2_data['W']\n",
    "i = h2_data['I']\n",
    "\n",
    "# Cut the dataframe for data around the beta peaker in the Balmer lines\n",
    "beta_peak = h2_data[(l>482) & (l<490)]\n",
    "\n",
    "plt.plot(beta_peak['W'], beta_peak['I'], marker='o', linestyle='None')\n",
    "\n",
    "fitparams = [['a0',1000,2000,1200,5],['a1',-10,10,0,0.1],['b0',3000,15000,4500,5],['b1',484,488,485.5,0.01],['b2',0.01,1.25,0.5,0.005]]\n",
    "function = Gaussian_And_Line\n",
    "plotparams = [['x',482,490],['y',0,8000],[700]]\n",
    "xData = beta_peak['W']\n",
    "yData = beta_peak['I']\n",
    "xErr = None\n",
    "yErr = None\n",
    "\n",
    "%matplotlib qt\n",
    "ip.slider_plot(fitparams,function,plotparams,xData,yData,xErr,yErr)"
   ]
  },
  {
   "cell_type": "code",
   "execution_count": null,
   "metadata": {},
   "outputs": [],
   "source": []
  }
 ],
 "metadata": {
  "kernelspec": {
   "display_name": "Python 3",
   "language": "python",
   "name": "python3"
  },
  "language_info": {
   "codemirror_mode": {
    "name": "ipython",
    "version": 3
   },
   "file_extension": ".py",
   "mimetype": "text/x-python",
   "name": "python",
   "nbconvert_exporter": "python",
   "pygments_lexer": "ipython3",
   "version": "3.7.6"
  }
 },
 "nbformat": 4,
 "nbformat_minor": 4
}
